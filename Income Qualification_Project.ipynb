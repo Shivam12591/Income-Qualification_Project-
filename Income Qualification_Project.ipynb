{
 "cells": [
  {
   "cell_type": "markdown",
   "id": "ceede06c",
   "metadata": {},
   "source": [
    "# Income Qualification"
   ]
  },
  {
   "cell_type": "markdown",
   "id": "d399cb10",
   "metadata": {},
   "source": [
    "## Project_02"
   ]
  },
  {
   "cell_type": "code",
   "execution_count": 1,
   "id": "c7a6be4f",
   "metadata": {},
   "outputs": [],
   "source": [
    "# First Importing the required library\n",
    "import numpy as np \n",
    "import pandas as pd \n",
    "import matplotlib.pyplot as plt \n",
    "import seaborn as sns"
   ]
  },
  {
   "cell_type": "code",
   "execution_count": 2,
   "id": "a48fd2b5",
   "metadata": {},
   "outputs": [],
   "source": [
    "# Removing the warnings\n",
    "import warnings \n",
    "warnings.filterwarnings(\"ignore\")"
   ]
  },
  {
   "cell_type": "code",
   "execution_count": 3,
   "id": "d7da6a94",
   "metadata": {},
   "outputs": [],
   "source": [
    "# importing the data set.\n",
    "train_df = pd.read_csv(\"train.csv\")\n",
    "test_df = pd.read_csv(\"test.csv\")"
   ]
  },
  {
   "cell_type": "markdown",
   "id": "7c2ebe77",
   "metadata": {},
   "source": [
    "Some basic data exploration "
   ]
  },
  {
   "cell_type": "code",
   "execution_count": 4,
   "id": "9c801b29",
   "metadata": {},
   "outputs": [
    {
     "data": {
      "text/html": [
       "<div>\n",
       "<style scoped>\n",
       "    .dataframe tbody tr th:only-of-type {\n",
       "        vertical-align: middle;\n",
       "    }\n",
       "\n",
       "    .dataframe tbody tr th {\n",
       "        vertical-align: top;\n",
       "    }\n",
       "\n",
       "    .dataframe thead th {\n",
       "        text-align: right;\n",
       "    }\n",
       "</style>\n",
       "<table border=\"1\" class=\"dataframe\">\n",
       "  <thead>\n",
       "    <tr style=\"text-align: right;\">\n",
       "      <th></th>\n",
       "      <th>Id</th>\n",
       "      <th>v2a1</th>\n",
       "      <th>hacdor</th>\n",
       "      <th>rooms</th>\n",
       "      <th>hacapo</th>\n",
       "      <th>v14a</th>\n",
       "      <th>refrig</th>\n",
       "      <th>v18q</th>\n",
       "      <th>v18q1</th>\n",
       "      <th>r4h1</th>\n",
       "      <th>...</th>\n",
       "      <th>SQBescolari</th>\n",
       "      <th>SQBage</th>\n",
       "      <th>SQBhogar_total</th>\n",
       "      <th>SQBedjefe</th>\n",
       "      <th>SQBhogar_nin</th>\n",
       "      <th>SQBovercrowding</th>\n",
       "      <th>SQBdependency</th>\n",
       "      <th>SQBmeaned</th>\n",
       "      <th>agesq</th>\n",
       "      <th>Target</th>\n",
       "    </tr>\n",
       "  </thead>\n",
       "  <tbody>\n",
       "    <tr>\n",
       "      <th>0</th>\n",
       "      <td>ID_279628684</td>\n",
       "      <td>190000.0</td>\n",
       "      <td>0</td>\n",
       "      <td>3</td>\n",
       "      <td>0</td>\n",
       "      <td>1</td>\n",
       "      <td>1</td>\n",
       "      <td>0</td>\n",
       "      <td>NaN</td>\n",
       "      <td>0</td>\n",
       "      <td>...</td>\n",
       "      <td>100</td>\n",
       "      <td>1849</td>\n",
       "      <td>1</td>\n",
       "      <td>100</td>\n",
       "      <td>0</td>\n",
       "      <td>1.000000</td>\n",
       "      <td>0.0</td>\n",
       "      <td>100.0</td>\n",
       "      <td>1849</td>\n",
       "      <td>4</td>\n",
       "    </tr>\n",
       "    <tr>\n",
       "      <th>1</th>\n",
       "      <td>ID_f29eb3ddd</td>\n",
       "      <td>135000.0</td>\n",
       "      <td>0</td>\n",
       "      <td>4</td>\n",
       "      <td>0</td>\n",
       "      <td>1</td>\n",
       "      <td>1</td>\n",
       "      <td>1</td>\n",
       "      <td>1.0</td>\n",
       "      <td>0</td>\n",
       "      <td>...</td>\n",
       "      <td>144</td>\n",
       "      <td>4489</td>\n",
       "      <td>1</td>\n",
       "      <td>144</td>\n",
       "      <td>0</td>\n",
       "      <td>1.000000</td>\n",
       "      <td>64.0</td>\n",
       "      <td>144.0</td>\n",
       "      <td>4489</td>\n",
       "      <td>4</td>\n",
       "    </tr>\n",
       "    <tr>\n",
       "      <th>2</th>\n",
       "      <td>ID_68de51c94</td>\n",
       "      <td>NaN</td>\n",
       "      <td>0</td>\n",
       "      <td>8</td>\n",
       "      <td>0</td>\n",
       "      <td>1</td>\n",
       "      <td>1</td>\n",
       "      <td>0</td>\n",
       "      <td>NaN</td>\n",
       "      <td>0</td>\n",
       "      <td>...</td>\n",
       "      <td>121</td>\n",
       "      <td>8464</td>\n",
       "      <td>1</td>\n",
       "      <td>0</td>\n",
       "      <td>0</td>\n",
       "      <td>0.250000</td>\n",
       "      <td>64.0</td>\n",
       "      <td>121.0</td>\n",
       "      <td>8464</td>\n",
       "      <td>4</td>\n",
       "    </tr>\n",
       "    <tr>\n",
       "      <th>3</th>\n",
       "      <td>ID_d671db89c</td>\n",
       "      <td>180000.0</td>\n",
       "      <td>0</td>\n",
       "      <td>5</td>\n",
       "      <td>0</td>\n",
       "      <td>1</td>\n",
       "      <td>1</td>\n",
       "      <td>1</td>\n",
       "      <td>1.0</td>\n",
       "      <td>0</td>\n",
       "      <td>...</td>\n",
       "      <td>81</td>\n",
       "      <td>289</td>\n",
       "      <td>16</td>\n",
       "      <td>121</td>\n",
       "      <td>4</td>\n",
       "      <td>1.777778</td>\n",
       "      <td>1.0</td>\n",
       "      <td>121.0</td>\n",
       "      <td>289</td>\n",
       "      <td>4</td>\n",
       "    </tr>\n",
       "    <tr>\n",
       "      <th>4</th>\n",
       "      <td>ID_d56d6f5f5</td>\n",
       "      <td>180000.0</td>\n",
       "      <td>0</td>\n",
       "      <td>5</td>\n",
       "      <td>0</td>\n",
       "      <td>1</td>\n",
       "      <td>1</td>\n",
       "      <td>1</td>\n",
       "      <td>1.0</td>\n",
       "      <td>0</td>\n",
       "      <td>...</td>\n",
       "      <td>121</td>\n",
       "      <td>1369</td>\n",
       "      <td>16</td>\n",
       "      <td>121</td>\n",
       "      <td>4</td>\n",
       "      <td>1.777778</td>\n",
       "      <td>1.0</td>\n",
       "      <td>121.0</td>\n",
       "      <td>1369</td>\n",
       "      <td>4</td>\n",
       "    </tr>\n",
       "  </tbody>\n",
       "</table>\n",
       "<p>5 rows × 143 columns</p>\n",
       "</div>"
      ],
      "text/plain": [
       "             Id      v2a1  hacdor  rooms  hacapo  v14a  refrig  v18q  v18q1  \\\n",
       "0  ID_279628684  190000.0       0      3       0     1       1     0    NaN   \n",
       "1  ID_f29eb3ddd  135000.0       0      4       0     1       1     1    1.0   \n",
       "2  ID_68de51c94       NaN       0      8       0     1       1     0    NaN   \n",
       "3  ID_d671db89c  180000.0       0      5       0     1       1     1    1.0   \n",
       "4  ID_d56d6f5f5  180000.0       0      5       0     1       1     1    1.0   \n",
       "\n",
       "   r4h1  ...  SQBescolari  SQBage  SQBhogar_total  SQBedjefe  SQBhogar_nin  \\\n",
       "0     0  ...          100    1849               1        100             0   \n",
       "1     0  ...          144    4489               1        144             0   \n",
       "2     0  ...          121    8464               1          0             0   \n",
       "3     0  ...           81     289              16        121             4   \n",
       "4     0  ...          121    1369              16        121             4   \n",
       "\n",
       "   SQBovercrowding  SQBdependency  SQBmeaned  agesq  Target  \n",
       "0         1.000000            0.0      100.0   1849       4  \n",
       "1         1.000000           64.0      144.0   4489       4  \n",
       "2         0.250000           64.0      121.0   8464       4  \n",
       "3         1.777778            1.0      121.0    289       4  \n",
       "4         1.777778            1.0      121.0   1369       4  \n",
       "\n",
       "[5 rows x 143 columns]"
      ]
     },
     "execution_count": 4,
     "metadata": {},
     "output_type": "execute_result"
    }
   ],
   "source": [
    "train_df.head()"
   ]
  },
  {
   "cell_type": "code",
   "execution_count": 5,
   "id": "b26be7de",
   "metadata": {},
   "outputs": [
    {
     "data": {
      "text/plain": [
       "(9557, 143)"
      ]
     },
     "execution_count": 5,
     "metadata": {},
     "output_type": "execute_result"
    }
   ],
   "source": [
    "train_df.shape "
   ]
  },
  {
   "cell_type": "code",
   "execution_count": 6,
   "id": "c207fa04",
   "metadata": {},
   "outputs": [
    {
     "data": {
      "text/html": [
       "<div>\n",
       "<style scoped>\n",
       "    .dataframe tbody tr th:only-of-type {\n",
       "        vertical-align: middle;\n",
       "    }\n",
       "\n",
       "    .dataframe tbody tr th {\n",
       "        vertical-align: top;\n",
       "    }\n",
       "\n",
       "    .dataframe thead th {\n",
       "        text-align: right;\n",
       "    }\n",
       "</style>\n",
       "<table border=\"1\" class=\"dataframe\">\n",
       "  <thead>\n",
       "    <tr style=\"text-align: right;\">\n",
       "      <th></th>\n",
       "      <th>Id</th>\n",
       "      <th>v2a1</th>\n",
       "      <th>hacdor</th>\n",
       "      <th>rooms</th>\n",
       "      <th>hacapo</th>\n",
       "      <th>v14a</th>\n",
       "      <th>refrig</th>\n",
       "      <th>v18q</th>\n",
       "      <th>v18q1</th>\n",
       "      <th>r4h1</th>\n",
       "      <th>...</th>\n",
       "      <th>age</th>\n",
       "      <th>SQBescolari</th>\n",
       "      <th>SQBage</th>\n",
       "      <th>SQBhogar_total</th>\n",
       "      <th>SQBedjefe</th>\n",
       "      <th>SQBhogar_nin</th>\n",
       "      <th>SQBovercrowding</th>\n",
       "      <th>SQBdependency</th>\n",
       "      <th>SQBmeaned</th>\n",
       "      <th>agesq</th>\n",
       "    </tr>\n",
       "  </thead>\n",
       "  <tbody>\n",
       "    <tr>\n",
       "      <th>0</th>\n",
       "      <td>ID_2f6873615</td>\n",
       "      <td>NaN</td>\n",
       "      <td>0</td>\n",
       "      <td>5</td>\n",
       "      <td>0</td>\n",
       "      <td>1</td>\n",
       "      <td>1</td>\n",
       "      <td>0</td>\n",
       "      <td>NaN</td>\n",
       "      <td>1</td>\n",
       "      <td>...</td>\n",
       "      <td>4</td>\n",
       "      <td>0</td>\n",
       "      <td>16</td>\n",
       "      <td>9</td>\n",
       "      <td>0</td>\n",
       "      <td>1</td>\n",
       "      <td>2.25</td>\n",
       "      <td>0.25</td>\n",
       "      <td>272.25</td>\n",
       "      <td>16</td>\n",
       "    </tr>\n",
       "    <tr>\n",
       "      <th>1</th>\n",
       "      <td>ID_1c78846d2</td>\n",
       "      <td>NaN</td>\n",
       "      <td>0</td>\n",
       "      <td>5</td>\n",
       "      <td>0</td>\n",
       "      <td>1</td>\n",
       "      <td>1</td>\n",
       "      <td>0</td>\n",
       "      <td>NaN</td>\n",
       "      <td>1</td>\n",
       "      <td>...</td>\n",
       "      <td>41</td>\n",
       "      <td>256</td>\n",
       "      <td>1681</td>\n",
       "      <td>9</td>\n",
       "      <td>0</td>\n",
       "      <td>1</td>\n",
       "      <td>2.25</td>\n",
       "      <td>0.25</td>\n",
       "      <td>272.25</td>\n",
       "      <td>1681</td>\n",
       "    </tr>\n",
       "    <tr>\n",
       "      <th>2</th>\n",
       "      <td>ID_e5442cf6a</td>\n",
       "      <td>NaN</td>\n",
       "      <td>0</td>\n",
       "      <td>5</td>\n",
       "      <td>0</td>\n",
       "      <td>1</td>\n",
       "      <td>1</td>\n",
       "      <td>0</td>\n",
       "      <td>NaN</td>\n",
       "      <td>1</td>\n",
       "      <td>...</td>\n",
       "      <td>41</td>\n",
       "      <td>289</td>\n",
       "      <td>1681</td>\n",
       "      <td>9</td>\n",
       "      <td>0</td>\n",
       "      <td>1</td>\n",
       "      <td>2.25</td>\n",
       "      <td>0.25</td>\n",
       "      <td>272.25</td>\n",
       "      <td>1681</td>\n",
       "    </tr>\n",
       "    <tr>\n",
       "      <th>3</th>\n",
       "      <td>ID_a8db26a79</td>\n",
       "      <td>NaN</td>\n",
       "      <td>0</td>\n",
       "      <td>14</td>\n",
       "      <td>0</td>\n",
       "      <td>1</td>\n",
       "      <td>1</td>\n",
       "      <td>1</td>\n",
       "      <td>1.0</td>\n",
       "      <td>0</td>\n",
       "      <td>...</td>\n",
       "      <td>59</td>\n",
       "      <td>256</td>\n",
       "      <td>3481</td>\n",
       "      <td>1</td>\n",
       "      <td>256</td>\n",
       "      <td>0</td>\n",
       "      <td>1.00</td>\n",
       "      <td>0.00</td>\n",
       "      <td>256.00</td>\n",
       "      <td>3481</td>\n",
       "    </tr>\n",
       "    <tr>\n",
       "      <th>4</th>\n",
       "      <td>ID_a62966799</td>\n",
       "      <td>175000.0</td>\n",
       "      <td>0</td>\n",
       "      <td>4</td>\n",
       "      <td>0</td>\n",
       "      <td>1</td>\n",
       "      <td>1</td>\n",
       "      <td>1</td>\n",
       "      <td>1.0</td>\n",
       "      <td>0</td>\n",
       "      <td>...</td>\n",
       "      <td>18</td>\n",
       "      <td>121</td>\n",
       "      <td>324</td>\n",
       "      <td>1</td>\n",
       "      <td>0</td>\n",
       "      <td>1</td>\n",
       "      <td>0.25</td>\n",
       "      <td>64.00</td>\n",
       "      <td>NaN</td>\n",
       "      <td>324</td>\n",
       "    </tr>\n",
       "  </tbody>\n",
       "</table>\n",
       "<p>5 rows × 142 columns</p>\n",
       "</div>"
      ],
      "text/plain": [
       "             Id      v2a1  hacdor  rooms  hacapo  v14a  refrig  v18q  v18q1  \\\n",
       "0  ID_2f6873615       NaN       0      5       0     1       1     0    NaN   \n",
       "1  ID_1c78846d2       NaN       0      5       0     1       1     0    NaN   \n",
       "2  ID_e5442cf6a       NaN       0      5       0     1       1     0    NaN   \n",
       "3  ID_a8db26a79       NaN       0     14       0     1       1     1    1.0   \n",
       "4  ID_a62966799  175000.0       0      4       0     1       1     1    1.0   \n",
       "\n",
       "   r4h1  ...  age  SQBescolari  SQBage  SQBhogar_total  SQBedjefe  \\\n",
       "0     1  ...    4            0      16               9          0   \n",
       "1     1  ...   41          256    1681               9          0   \n",
       "2     1  ...   41          289    1681               9          0   \n",
       "3     0  ...   59          256    3481               1        256   \n",
       "4     0  ...   18          121     324               1          0   \n",
       "\n",
       "   SQBhogar_nin  SQBovercrowding  SQBdependency  SQBmeaned  agesq  \n",
       "0             1             2.25           0.25     272.25     16  \n",
       "1             1             2.25           0.25     272.25   1681  \n",
       "2             1             2.25           0.25     272.25   1681  \n",
       "3             0             1.00           0.00     256.00   3481  \n",
       "4             1             0.25          64.00        NaN    324  \n",
       "\n",
       "[5 rows x 142 columns]"
      ]
     },
     "execution_count": 6,
     "metadata": {},
     "output_type": "execute_result"
    }
   ],
   "source": [
    "test_df.head()"
   ]
  },
  {
   "cell_type": "code",
   "execution_count": 7,
   "id": "a4f52fa8",
   "metadata": {},
   "outputs": [
    {
     "data": {
      "text/plain": [
       "(23856, 142)"
      ]
     },
     "execution_count": 7,
     "metadata": {},
     "output_type": "execute_result"
    }
   ],
   "source": [
    "test_df.shape"
   ]
  },
  {
   "cell_type": "markdown",
   "id": "bf4b4485",
   "metadata": {},
   "source": [
    "### 1. Identification of the output variable "
   ]
  },
  {
   "cell_type": "code",
   "execution_count": 8,
   "id": "d98a7850",
   "metadata": {},
   "outputs": [
    {
     "name": "stdout",
     "output_type": "stream",
     "text": [
      "Our output variable is the Target\n"
     ]
    }
   ],
   "source": [
    "# to know the output variable in the train data set we compare it from test data set\n",
    "for i in train_df.columns:\n",
    "    if i not in test_df.columns:\n",
    "        print(\"Our output variable is the\", i)"
   ]
  },
  {
   "cell_type": "markdown",
   "id": "a93f538f",
   "metadata": {},
   "source": [
    "### 2. Understanding the type of the data "
   ]
  },
  {
   "cell_type": "code",
   "execution_count": 9,
   "id": "44a8939b",
   "metadata": {},
   "outputs": [
    {
     "name": "stdout",
     "output_type": "stream",
     "text": [
      "<class 'pandas.core.frame.DataFrame'>\n",
      "RangeIndex: 9557 entries, 0 to 9556\n",
      "Data columns (total 143 columns):\n",
      " #    Column           Non-Null Count  Dtype  \n",
      "---   ------           --------------  -----  \n",
      " 0    Id               9557 non-null   object \n",
      " 1    v2a1             2697 non-null   float64\n",
      " 2    hacdor           9557 non-null   int64  \n",
      " 3    rooms            9557 non-null   int64  \n",
      " 4    hacapo           9557 non-null   int64  \n",
      " 5    v14a             9557 non-null   int64  \n",
      " 6    refrig           9557 non-null   int64  \n",
      " 7    v18q             9557 non-null   int64  \n",
      " 8    v18q1            2215 non-null   float64\n",
      " 9    r4h1             9557 non-null   int64  \n",
      " 10   r4h2             9557 non-null   int64  \n",
      " 11   r4h3             9557 non-null   int64  \n",
      " 12   r4m1             9557 non-null   int64  \n",
      " 13   r4m2             9557 non-null   int64  \n",
      " 14   r4m3             9557 non-null   int64  \n",
      " 15   r4t1             9557 non-null   int64  \n",
      " 16   r4t2             9557 non-null   int64  \n",
      " 17   r4t3             9557 non-null   int64  \n",
      " 18   tamhog           9557 non-null   int64  \n",
      " 19   tamviv           9557 non-null   int64  \n",
      " 20   escolari         9557 non-null   int64  \n",
      " 21   rez_esc          1629 non-null   float64\n",
      " 22   hhsize           9557 non-null   int64  \n",
      " 23   paredblolad      9557 non-null   int64  \n",
      " 24   paredzocalo      9557 non-null   int64  \n",
      " 25   paredpreb        9557 non-null   int64  \n",
      " 26   pareddes         9557 non-null   int64  \n",
      " 27   paredmad         9557 non-null   int64  \n",
      " 28   paredzinc        9557 non-null   int64  \n",
      " 29   paredfibras      9557 non-null   int64  \n",
      " 30   paredother       9557 non-null   int64  \n",
      " 31   pisomoscer       9557 non-null   int64  \n",
      " 32   pisocemento      9557 non-null   int64  \n",
      " 33   pisoother        9557 non-null   int64  \n",
      " 34   pisonatur        9557 non-null   int64  \n",
      " 35   pisonotiene      9557 non-null   int64  \n",
      " 36   pisomadera       9557 non-null   int64  \n",
      " 37   techozinc        9557 non-null   int64  \n",
      " 38   techoentrepiso   9557 non-null   int64  \n",
      " 39   techocane        9557 non-null   int64  \n",
      " 40   techootro        9557 non-null   int64  \n",
      " 41   cielorazo        9557 non-null   int64  \n",
      " 42   abastaguadentro  9557 non-null   int64  \n",
      " 43   abastaguafuera   9557 non-null   int64  \n",
      " 44   abastaguano      9557 non-null   int64  \n",
      " 45   public           9557 non-null   int64  \n",
      " 46   planpri          9557 non-null   int64  \n",
      " 47   noelec           9557 non-null   int64  \n",
      " 48   coopele          9557 non-null   int64  \n",
      " 49   sanitario1       9557 non-null   int64  \n",
      " 50   sanitario2       9557 non-null   int64  \n",
      " 51   sanitario3       9557 non-null   int64  \n",
      " 52   sanitario5       9557 non-null   int64  \n",
      " 53   sanitario6       9557 non-null   int64  \n",
      " 54   energcocinar1    9557 non-null   int64  \n",
      " 55   energcocinar2    9557 non-null   int64  \n",
      " 56   energcocinar3    9557 non-null   int64  \n",
      " 57   energcocinar4    9557 non-null   int64  \n",
      " 58   elimbasu1        9557 non-null   int64  \n",
      " 59   elimbasu2        9557 non-null   int64  \n",
      " 60   elimbasu3        9557 non-null   int64  \n",
      " 61   elimbasu4        9557 non-null   int64  \n",
      " 62   elimbasu5        9557 non-null   int64  \n",
      " 63   elimbasu6        9557 non-null   int64  \n",
      " 64   epared1          9557 non-null   int64  \n",
      " 65   epared2          9557 non-null   int64  \n",
      " 66   epared3          9557 non-null   int64  \n",
      " 67   etecho1          9557 non-null   int64  \n",
      " 68   etecho2          9557 non-null   int64  \n",
      " 69   etecho3          9557 non-null   int64  \n",
      " 70   eviv1            9557 non-null   int64  \n",
      " 71   eviv2            9557 non-null   int64  \n",
      " 72   eviv3            9557 non-null   int64  \n",
      " 73   dis              9557 non-null   int64  \n",
      " 74   male             9557 non-null   int64  \n",
      " 75   female           9557 non-null   int64  \n",
      " 76   estadocivil1     9557 non-null   int64  \n",
      " 77   estadocivil2     9557 non-null   int64  \n",
      " 78   estadocivil3     9557 non-null   int64  \n",
      " 79   estadocivil4     9557 non-null   int64  \n",
      " 80   estadocivil5     9557 non-null   int64  \n",
      " 81   estadocivil6     9557 non-null   int64  \n",
      " 82   estadocivil7     9557 non-null   int64  \n",
      " 83   parentesco1      9557 non-null   int64  \n",
      " 84   parentesco2      9557 non-null   int64  \n",
      " 85   parentesco3      9557 non-null   int64  \n",
      " 86   parentesco4      9557 non-null   int64  \n",
      " 87   parentesco5      9557 non-null   int64  \n",
      " 88   parentesco6      9557 non-null   int64  \n",
      " 89   parentesco7      9557 non-null   int64  \n",
      " 90   parentesco8      9557 non-null   int64  \n",
      " 91   parentesco9      9557 non-null   int64  \n",
      " 92   parentesco10     9557 non-null   int64  \n",
      " 93   parentesco11     9557 non-null   int64  \n",
      " 94   parentesco12     9557 non-null   int64  \n",
      " 95   idhogar          9557 non-null   object \n",
      " 96   hogar_nin        9557 non-null   int64  \n",
      " 97   hogar_adul       9557 non-null   int64  \n",
      " 98   hogar_mayor      9557 non-null   int64  \n",
      " 99   hogar_total      9557 non-null   int64  \n",
      " 100  dependency       9557 non-null   object \n",
      " 101  edjefe           9557 non-null   object \n",
      " 102  edjefa           9557 non-null   object \n",
      " 103  meaneduc         9552 non-null   float64\n",
      " 104  instlevel1       9557 non-null   int64  \n",
      " 105  instlevel2       9557 non-null   int64  \n",
      " 106  instlevel3       9557 non-null   int64  \n",
      " 107  instlevel4       9557 non-null   int64  \n",
      " 108  instlevel5       9557 non-null   int64  \n",
      " 109  instlevel6       9557 non-null   int64  \n",
      " 110  instlevel7       9557 non-null   int64  \n",
      " 111  instlevel8       9557 non-null   int64  \n",
      " 112  instlevel9       9557 non-null   int64  \n",
      " 113  bedrooms         9557 non-null   int64  \n",
      " 114  overcrowding     9557 non-null   float64\n",
      " 115  tipovivi1        9557 non-null   int64  \n",
      " 116  tipovivi2        9557 non-null   int64  \n",
      " 117  tipovivi3        9557 non-null   int64  \n",
      " 118  tipovivi4        9557 non-null   int64  \n",
      " 119  tipovivi5        9557 non-null   int64  \n",
      " 120  computer         9557 non-null   int64  \n",
      " 121  television       9557 non-null   int64  \n",
      " 122  mobilephone      9557 non-null   int64  \n",
      " 123  qmobilephone     9557 non-null   int64  \n",
      " 124  lugar1           9557 non-null   int64  \n",
      " 125  lugar2           9557 non-null   int64  \n",
      " 126  lugar3           9557 non-null   int64  \n",
      " 127  lugar4           9557 non-null   int64  \n",
      " 128  lugar5           9557 non-null   int64  \n",
      " 129  lugar6           9557 non-null   int64  \n",
      " 130  area1            9557 non-null   int64  \n",
      " 131  area2            9557 non-null   int64  \n",
      " 132  age              9557 non-null   int64  \n",
      " 133  SQBescolari      9557 non-null   int64  \n",
      " 134  SQBage           9557 non-null   int64  \n",
      " 135  SQBhogar_total   9557 non-null   int64  \n",
      " 136  SQBedjefe        9557 non-null   int64  \n",
      " 137  SQBhogar_nin     9557 non-null   int64  \n",
      " 138  SQBovercrowding  9557 non-null   float64\n",
      " 139  SQBdependency    9557 non-null   float64\n",
      " 140  SQBmeaned        9552 non-null   float64\n",
      " 141  agesq            9557 non-null   int64  \n",
      " 142  Target           9557 non-null   int64  \n",
      "dtypes: float64(8), int64(130), object(5)\n",
      "memory usage: 10.4+ MB\n"
     ]
    }
   ],
   "source": [
    "train_df.info(verbose=True, show_counts= True)"
   ]
  },
  {
   "cell_type": "code",
   "execution_count": 10,
   "id": "734ad446",
   "metadata": {},
   "outputs": [
    {
     "data": {
      "text/plain": [
       "int64      130\n",
       "float64      8\n",
       "object       5\n",
       "dtype: int64"
      ]
     },
     "execution_count": 10,
     "metadata": {},
     "output_type": "execute_result"
    }
   ],
   "source": [
    "train_df.dtypes.value_counts()"
   ]
  },
  {
   "cell_type": "markdown",
   "id": "736dba6a",
   "metadata": {},
   "source": [
    "It is confirm from the above code that there is the three type of the data in dataset.\n",
    "1. 130 variable is int type.\n",
    "2. 8 variable is float type.\n",
    "3. 5 variable is of object type."
   ]
  },
  {
   "cell_type": "markdown",
   "id": "4e8e1525",
   "metadata": {},
   "source": [
    "### Data Cleaning steps "
   ]
  },
  {
   "cell_type": "code",
   "execution_count": 12,
   "id": "5e082090",
   "metadata": {},
   "outputs": [
    {
     "data": {
      "text/html": [
       "<div>\n",
       "<style scoped>\n",
       "    .dataframe tbody tr th:only-of-type {\n",
       "        vertical-align: middle;\n",
       "    }\n",
       "\n",
       "    .dataframe tbody tr th {\n",
       "        vertical-align: top;\n",
       "    }\n",
       "\n",
       "    .dataframe thead th {\n",
       "        text-align: right;\n",
       "    }\n",
       "</style>\n",
       "<table border=\"1\" class=\"dataframe\">\n",
       "  <thead>\n",
       "    <tr style=\"text-align: right;\">\n",
       "      <th></th>\n",
       "      <th>Id</th>\n",
       "      <th>idhogar</th>\n",
       "      <th>dependency</th>\n",
       "      <th>edjefe</th>\n",
       "      <th>edjefa</th>\n",
       "    </tr>\n",
       "  </thead>\n",
       "  <tbody>\n",
       "    <tr>\n",
       "      <th>0</th>\n",
       "      <td>ID_279628684</td>\n",
       "      <td>21eb7fcc1</td>\n",
       "      <td>no</td>\n",
       "      <td>10</td>\n",
       "      <td>no</td>\n",
       "    </tr>\n",
       "    <tr>\n",
       "      <th>1</th>\n",
       "      <td>ID_f29eb3ddd</td>\n",
       "      <td>0e5d7a658</td>\n",
       "      <td>8</td>\n",
       "      <td>12</td>\n",
       "      <td>no</td>\n",
       "    </tr>\n",
       "    <tr>\n",
       "      <th>2</th>\n",
       "      <td>ID_68de51c94</td>\n",
       "      <td>2c7317ea8</td>\n",
       "      <td>8</td>\n",
       "      <td>no</td>\n",
       "      <td>11</td>\n",
       "    </tr>\n",
       "    <tr>\n",
       "      <th>3</th>\n",
       "      <td>ID_d671db89c</td>\n",
       "      <td>2b58d945f</td>\n",
       "      <td>yes</td>\n",
       "      <td>11</td>\n",
       "      <td>no</td>\n",
       "    </tr>\n",
       "    <tr>\n",
       "      <th>4</th>\n",
       "      <td>ID_d56d6f5f5</td>\n",
       "      <td>2b58d945f</td>\n",
       "      <td>yes</td>\n",
       "      <td>11</td>\n",
       "      <td>no</td>\n",
       "    </tr>\n",
       "    <tr>\n",
       "      <th>...</th>\n",
       "      <td>...</td>\n",
       "      <td>...</td>\n",
       "      <td>...</td>\n",
       "      <td>...</td>\n",
       "      <td>...</td>\n",
       "    </tr>\n",
       "    <tr>\n",
       "      <th>9552</th>\n",
       "      <td>ID_d45ae367d</td>\n",
       "      <td>d6c086aa3</td>\n",
       "      <td>.25</td>\n",
       "      <td>9</td>\n",
       "      <td>no</td>\n",
       "    </tr>\n",
       "    <tr>\n",
       "      <th>9553</th>\n",
       "      <td>ID_c94744e07</td>\n",
       "      <td>d6c086aa3</td>\n",
       "      <td>.25</td>\n",
       "      <td>9</td>\n",
       "      <td>no</td>\n",
       "    </tr>\n",
       "    <tr>\n",
       "      <th>9554</th>\n",
       "      <td>ID_85fc658f8</td>\n",
       "      <td>d6c086aa3</td>\n",
       "      <td>.25</td>\n",
       "      <td>9</td>\n",
       "      <td>no</td>\n",
       "    </tr>\n",
       "    <tr>\n",
       "      <th>9555</th>\n",
       "      <td>ID_ced540c61</td>\n",
       "      <td>d6c086aa3</td>\n",
       "      <td>.25</td>\n",
       "      <td>9</td>\n",
       "      <td>no</td>\n",
       "    </tr>\n",
       "    <tr>\n",
       "      <th>9556</th>\n",
       "      <td>ID_a38c64491</td>\n",
       "      <td>d6c086aa3</td>\n",
       "      <td>.25</td>\n",
       "      <td>9</td>\n",
       "      <td>no</td>\n",
       "    </tr>\n",
       "  </tbody>\n",
       "</table>\n",
       "<p>9557 rows × 5 columns</p>\n",
       "</div>"
      ],
      "text/plain": [
       "                Id    idhogar dependency edjefe edjefa\n",
       "0     ID_279628684  21eb7fcc1         no     10     no\n",
       "1     ID_f29eb3ddd  0e5d7a658          8     12     no\n",
       "2     ID_68de51c94  2c7317ea8          8     no     11\n",
       "3     ID_d671db89c  2b58d945f        yes     11     no\n",
       "4     ID_d56d6f5f5  2b58d945f        yes     11     no\n",
       "...            ...        ...        ...    ...    ...\n",
       "9552  ID_d45ae367d  d6c086aa3        .25      9     no\n",
       "9553  ID_c94744e07  d6c086aa3        .25      9     no\n",
       "9554  ID_85fc658f8  d6c086aa3        .25      9     no\n",
       "9555  ID_ced540c61  d6c086aa3        .25      9     no\n",
       "9556  ID_a38c64491  d6c086aa3        .25      9     no\n",
       "\n",
       "[9557 rows x 5 columns]"
      ]
     },
     "execution_count": 12,
     "metadata": {},
     "output_type": "execute_result"
    }
   ],
   "source": [
    "train_df.select_dtypes(\"object\")"
   ]
  },
  {
   "cell_type": "code",
   "execution_count": 13,
   "id": "4196fdb1",
   "metadata": {},
   "outputs": [
    {
     "data": {
      "text/plain": [
       "'101. dependency, Dependency rate, calculated = (number of members of the household\\nyounger than 19 or older than 64)/(number of member of household between 19 and 64)\\n\\n102. edjefe, years of education of male head of household, based on the interaction of\\nescolari (years of education), head of household and gender, yes=1 and no=0\\n\\n103. edjefa, years of education of female head of household, based on the interaction of\\nescolari (years of education), head of household and gender, yes=1 and no=0'"
      ]
     },
     "execution_count": 13,
     "metadata": {},
     "output_type": "execute_result"
    }
   ],
   "source": [
    "# lets Convert the object variable into the int or float by converting Yes=1 and No=0 as given in the data dictionary.\n",
    "\n",
    "'''101. dependency, Dependency rate, calculated = (number of members of the household\n",
    "younger than 19 or older than 64)/(number of member of household between 19 and 64)\n",
    "\n",
    "102. edjefe, years of education of male head of household, based on the interaction of\n",
    "escolari (years of education), head of household and gender, yes=1 and no=0\n",
    "\n",
    "103. edjefa, years of education of female head of household, based on the interaction of\n",
    "escolari (years of education), head of household and gender, yes=1 and no=0'''\n"
   ]
  },
  {
   "cell_type": "code",
   "execution_count": 14,
   "id": "197fada2",
   "metadata": {},
   "outputs": [],
   "source": [
    "def change(i):\n",
    "    if i == 'yes':\n",
    "        return float(1)\n",
    "    elif i == 'no':\n",
    "        return float(0)\n",
    "    else:\n",
    "        return float(i)"
   ]
  },
  {
   "cell_type": "code",
   "execution_count": 15,
   "id": "cdce2c24",
   "metadata": {},
   "outputs": [],
   "source": [
    "train_df['dependency'] = train_df['dependency'].apply(change)"
   ]
  },
  {
   "cell_type": "code",
   "execution_count": 16,
   "id": "24647bed",
   "metadata": {},
   "outputs": [
    {
     "data": {
      "text/plain": [
       "dtype('float64')"
      ]
     },
     "execution_count": 16,
     "metadata": {},
     "output_type": "execute_result"
    }
   ],
   "source": [
    "train_df['dependency'].dtypes"
   ]
  },
  {
   "cell_type": "code",
   "execution_count": 17,
   "id": "07793d37",
   "metadata": {},
   "outputs": [
    {
     "data": {
      "text/plain": [
       "0       0.00\n",
       "1       8.00\n",
       "2       8.00\n",
       "3       1.00\n",
       "4       1.00\n",
       "        ... \n",
       "9552    0.25\n",
       "9553    0.25\n",
       "9554    0.25\n",
       "9555    0.25\n",
       "9556    0.25\n",
       "Name: dependency, Length: 9557, dtype: float64"
      ]
     },
     "execution_count": 17,
     "metadata": {},
     "output_type": "execute_result"
    }
   ],
   "source": [
    "train_df['dependency']"
   ]
  },
  {
   "cell_type": "code",
   "execution_count": 18,
   "id": "a814aa1d",
   "metadata": {},
   "outputs": [],
   "source": [
    "train_df['edjefe'] = train_df['edjefe'].apply(change)\n",
    "train_df['edjefa'] = train_df['edjefa'].apply(change)"
   ]
  },
  {
   "cell_type": "code",
   "execution_count": 19,
   "id": "c4aa3bdf",
   "metadata": {},
   "outputs": [
    {
     "name": "stdout",
     "output_type": "stream",
     "text": [
      "<class 'pandas.core.frame.DataFrame'>\n",
      "RangeIndex: 9557 entries, 0 to 9556\n",
      "Columns: 143 entries, Id to Target\n",
      "dtypes: float64(11), int64(130), object(2)\n",
      "memory usage: 10.4+ MB\n"
     ]
    }
   ],
   "source": [
    "train_df.info()"
   ]
  },
  {
   "cell_type": "markdown",
   "id": "6d254233",
   "metadata": {},
   "source": [
    "### 3. To Check if there are any biases in our dataset."
   ]
  },
  {
   "cell_type": "code",
   "execution_count": 20,
   "id": "ddc0ef0d",
   "metadata": {},
   "outputs": [
    {
     "data": {
      "image/png": "[encoded data removed]",
      "text/plain": [
       "<Figure size 720x360 with 1 Axes>"
      ]
     },
     "metadata": {
      "needs_background": "light"
     },
     "output_type": "display_data"
    }
   ],
   "source": [
    "# With help of Target variables we check the biases in the data.\n",
    "plt.figure(figsize=(10,5))\n",
    "sns.countplot(x = 'Target', data=train_df)\n",
    "plt.xlabel(\"Level of Poverty\")\n",
    "plt.ylabel(\"Number of households\")\n",
    "plt.title(\"household base Poverty level\")\n",
    "plt.show()"
   ]
  },
  {
   "cell_type": "markdown",
   "id": "693c28b1",
   "metadata": {},
   "source": [
    "Poverty level is in the order as it is Categorised so we can say that our data is not biased."
   ]
  },
  {
   "cell_type": "markdown",
   "id": "db5647d3",
   "metadata": {},
   "source": [
    "### 4. To Check whether all members of the house have the same poverty level or not."
   ]
  },
  {
   "cell_type": "code",
   "execution_count": 21,
   "id": "6258524a",
   "metadata": {},
   "outputs": [],
   "source": [
    "# Member of house with same poverty level.\n",
    "same_level = train_df.groupby('idhogar')['Target'].apply(lambda x: x.nunique()==True)\n",
    "\n",
    "# Member of house that is not with same poverty level.\n",
    "unequal_level = same_level[same_level != True]"
   ]
  },
  {
   "cell_type": "code",
   "execution_count": 22,
   "id": "8d888412",
   "metadata": {},
   "outputs": [
    {
     "data": {
      "text/plain": [
       "True     2903\n",
       "False      85\n",
       "Name: Target, dtype: int64"
      ]
     },
     "execution_count": 22,
     "metadata": {},
     "output_type": "execute_result"
    }
   ],
   "source": [
    "same_level.value_counts()"
   ]
  },
  {
   "cell_type": "code",
   "execution_count": 23,
   "id": "2883838b",
   "metadata": {},
   "outputs": [
    {
     "data": {
      "text/plain": [
       "False    85\n",
       "Name: Target, dtype: int64"
      ]
     },
     "execution_count": 23,
     "metadata": {},
     "output_type": "execute_result"
    }
   ],
   "source": [
    "unequal_level.value_counts()"
   ]
  },
  {
   "cell_type": "markdown",
   "id": "20d2c5da",
   "metadata": {},
   "source": [
    "It's clear from the above value that there is 85 members of house do not have same poverty level."
   ]
  },
  {
   "cell_type": "markdown",
   "id": "25feed47",
   "metadata": {},
   "source": [
    "### 5. To Check if there is a house without a family head."
   ]
  },
  {
   "cell_type": "code",
   "execution_count": 24,
   "id": "80a1869b",
   "metadata": {},
   "outputs": [],
   "source": [
    "# According to the data Dictionary (\"parentesco1\" =1 if household head)."
   ]
  },
  {
   "cell_type": "code",
   "execution_count": 25,
   "id": "f9778967",
   "metadata": {},
   "outputs": [
    {
     "data": {
      "text/plain": [
       "idhogar\n",
       "001ff74ca    1\n",
       "003123ec2    1\n",
       "004616164    1\n",
       "004983866    1\n",
       "005905417    1\n",
       "            ..\n",
       "ff9343a35    1\n",
       "ff9d5ab17    1\n",
       "ffae4a097    1\n",
       "ffe90d46f    1\n",
       "fff7d6be1    1\n",
       "Name: parentesco1, Length: 2988, dtype: int64"
      ]
     },
     "execution_count": 25,
     "metadata": {},
     "output_type": "execute_result"
    }
   ],
   "source": [
    "household_head = train_df.groupby('idhogar')['parentesco1'].sum()\n",
    "household_head"
   ]
  },
  {
   "cell_type": "code",
   "execution_count": 26,
   "id": "cbdd9198",
   "metadata": {},
   "outputs": [
    {
     "data": {
      "text/plain": [
       "0    6584\n",
       "1    2973\n",
       "Name: parentesco1, dtype: int64"
      ]
     },
     "execution_count": 26,
     "metadata": {},
     "output_type": "execute_result"
    }
   ],
   "source": [
    "train_df['parentesco1'].value_counts()"
   ]
  },
  {
   "cell_type": "code",
   "execution_count": 27,
   "id": "9c0855b0",
   "metadata": {},
   "outputs": [],
   "source": [
    "no_household_head = train_df.loc[train_df['idhogar'].isin(household_head[household_head==0].index),:]"
   ]
  },
  {
   "cell_type": "code",
   "execution_count": 28,
   "id": "5f2f17db",
   "metadata": {},
   "outputs": [
    {
     "name": "stdout",
     "output_type": "stream",
     "text": [
      "There is 15 house without the family head.\n"
     ]
    }
   ],
   "source": [
    "no_head = no_household_head['idhogar'].nunique()\n",
    "\n",
    "print(\"There is\", no_head, \"house without the family head.\")"
   ]
  },
  {
   "cell_type": "markdown",
   "id": "62d70302",
   "metadata": {},
   "source": [
    "### 6. Set poverty level of the members and the head of the house within a family."
   ]
  },
  {
   "cell_type": "code",
   "execution_count": 29,
   "id": "892ac80d",
   "metadata": {},
   "outputs": [],
   "source": [
    "household_without_head_unequal_poverty = no_household_head.groupby('idhogar')['Target'].apply(lambda X: X.nunique() == 1)"
   ]
  },
  {
   "cell_type": "code",
   "execution_count": 30,
   "id": "f01ccf51",
   "metadata": {},
   "outputs": [
    {
     "name": "stdout",
     "output_type": "stream",
     "text": [
      "There are 0 households without head have different Poverty Level or Target Value.\n"
     ]
    }
   ],
   "source": [
    "print(\"There are {} households without head have different Poverty Level or Target Value.\" .format(sum(household_without_head_unequal_poverty == False)))"
   ]
  },
  {
   "cell_type": "markdown",
   "id": "bb0b1f35",
   "metadata": {},
   "source": [
    "### 7. Count how many null values are existing in columns."
   ]
  },
  {
   "cell_type": "code",
   "execution_count": 31,
   "id": "f7847b8c",
   "metadata": {},
   "outputs": [
    {
     "data": {
      "text/plain": [
       "Id                    0\n",
       "v2a1               6860\n",
       "hacdor                0\n",
       "rooms                 0\n",
       "hacapo                0\n",
       "                   ... \n",
       "SQBovercrowding       0\n",
       "SQBdependency         0\n",
       "SQBmeaned             5\n",
       "agesq                 0\n",
       "Target                0\n",
       "Length: 143, dtype: int64"
      ]
     },
     "execution_count": 31,
     "metadata": {},
     "output_type": "execute_result"
    }
   ],
   "source": [
    "train_df.isnull().sum()"
   ]
  },
  {
   "cell_type": "code",
   "execution_count": 32,
   "id": "a48ce93c",
   "metadata": {},
   "outputs": [],
   "source": [
    "data = {\n",
    "  \"feature_name\": train_df.isnull().sum().index,\n",
    "  \"No.of null values\": train_df.isnull().sum().values\n",
    "}"
   ]
  },
  {
   "cell_type": "code",
   "execution_count": 33,
   "id": "7bdf4310",
   "metadata": {},
   "outputs": [
    {
     "data": {
      "text/html": [
       "<div>\n",
       "<style scoped>\n",
       "    .dataframe tbody tr th:only-of-type {\n",
       "        vertical-align: middle;\n",
       "    }\n",
       "\n",
       "    .dataframe tbody tr th {\n",
       "        vertical-align: top;\n",
       "    }\n",
       "\n",
       "    .dataframe thead th {\n",
       "        text-align: right;\n",
       "    }\n",
       "</style>\n",
       "<table border=\"1\" class=\"dataframe\">\n",
       "  <thead>\n",
       "    <tr style=\"text-align: right;\">\n",
       "      <th></th>\n",
       "      <th>feature_name</th>\n",
       "      <th>No.of null values</th>\n",
       "    </tr>\n",
       "  </thead>\n",
       "  <tbody>\n",
       "    <tr>\n",
       "      <th>0</th>\n",
       "      <td>Id</td>\n",
       "      <td>0</td>\n",
       "    </tr>\n",
       "    <tr>\n",
       "      <th>1</th>\n",
       "      <td>v2a1</td>\n",
       "      <td>6860</td>\n",
       "    </tr>\n",
       "    <tr>\n",
       "      <th>2</th>\n",
       "      <td>hacdor</td>\n",
       "      <td>0</td>\n",
       "    </tr>\n",
       "    <tr>\n",
       "      <th>3</th>\n",
       "      <td>rooms</td>\n",
       "      <td>0</td>\n",
       "    </tr>\n",
       "    <tr>\n",
       "      <th>4</th>\n",
       "      <td>hacapo</td>\n",
       "      <td>0</td>\n",
       "    </tr>\n",
       "    <tr>\n",
       "      <th>...</th>\n",
       "      <td>...</td>\n",
       "      <td>...</td>\n",
       "    </tr>\n",
       "    <tr>\n",
       "      <th>138</th>\n",
       "      <td>SQBovercrowding</td>\n",
       "      <td>0</td>\n",
       "    </tr>\n",
       "    <tr>\n",
       "      <th>139</th>\n",
       "      <td>SQBdependency</td>\n",
       "      <td>0</td>\n",
       "    </tr>\n",
       "    <tr>\n",
       "      <th>140</th>\n",
       "      <td>SQBmeaned</td>\n",
       "      <td>5</td>\n",
       "    </tr>\n",
       "    <tr>\n",
       "      <th>141</th>\n",
       "      <td>agesq</td>\n",
       "      <td>0</td>\n",
       "    </tr>\n",
       "    <tr>\n",
       "      <th>142</th>\n",
       "      <td>Target</td>\n",
       "      <td>0</td>\n",
       "    </tr>\n",
       "  </tbody>\n",
       "</table>\n",
       "<p>143 rows × 2 columns</p>\n",
       "</div>"
      ],
      "text/plain": [
       "        feature_name  No.of null values\n",
       "0                 Id                  0\n",
       "1               v2a1               6860\n",
       "2             hacdor                  0\n",
       "3              rooms                  0\n",
       "4             hacapo                  0\n",
       "..               ...                ...\n",
       "138  SQBovercrowding                  0\n",
       "139    SQBdependency                  0\n",
       "140        SQBmeaned                  5\n",
       "141            agesq                  0\n",
       "142           Target                  0\n",
       "\n",
       "[143 rows x 2 columns]"
      ]
     },
     "execution_count": 33,
     "metadata": {},
     "output_type": "execute_result"
    }
   ],
   "source": [
    "null_values = pd.DataFrame(data)\n",
    "null_values"
   ]
  },
  {
   "cell_type": "code",
   "execution_count": 34,
   "id": "1f97496e",
   "metadata": {},
   "outputs": [
    {
     "data": {
      "text/html": [
       "<div>\n",
       "<style scoped>\n",
       "    .dataframe tbody tr th:only-of-type {\n",
       "        vertical-align: middle;\n",
       "    }\n",
       "\n",
       "    .dataframe tbody tr th {\n",
       "        vertical-align: top;\n",
       "    }\n",
       "\n",
       "    .dataframe thead th {\n",
       "        text-align: right;\n",
       "    }\n",
       "</style>\n",
       "<table border=\"1\" class=\"dataframe\">\n",
       "  <thead>\n",
       "    <tr style=\"text-align: right;\">\n",
       "      <th></th>\n",
       "      <th>feature_name</th>\n",
       "      <th>No.of null values</th>\n",
       "    </tr>\n",
       "  </thead>\n",
       "  <tbody>\n",
       "    <tr>\n",
       "      <th>1</th>\n",
       "      <td>v2a1</td>\n",
       "      <td>6860</td>\n",
       "    </tr>\n",
       "    <tr>\n",
       "      <th>8</th>\n",
       "      <td>v18q1</td>\n",
       "      <td>7342</td>\n",
       "    </tr>\n",
       "    <tr>\n",
       "      <th>21</th>\n",
       "      <td>rez_esc</td>\n",
       "      <td>7928</td>\n",
       "    </tr>\n",
       "    <tr>\n",
       "      <th>103</th>\n",
       "      <td>meaneduc</td>\n",
       "      <td>5</td>\n",
       "    </tr>\n",
       "    <tr>\n",
       "      <th>140</th>\n",
       "      <td>SQBmeaned</td>\n",
       "      <td>5</td>\n",
       "    </tr>\n",
       "  </tbody>\n",
       "</table>\n",
       "</div>"
      ],
      "text/plain": [
       "    feature_name  No.of null values\n",
       "1           v2a1               6860\n",
       "8          v18q1               7342\n",
       "21       rez_esc               7928\n",
       "103     meaneduc                  5\n",
       "140    SQBmeaned                  5"
      ]
     },
     "execution_count": 34,
     "metadata": {},
     "output_type": "execute_result"
    }
   ],
   "source": [
    "null_values[null_values['No.of null values']>0]"
   ]
  },
  {
   "cell_type": "markdown",
   "id": "da6db03a",
   "metadata": {},
   "source": [
    "### 8. Remove null value rows of the target variable."
   ]
  },
  {
   "cell_type": "code",
   "execution_count": 35,
   "id": "dda3aff0",
   "metadata": {},
   "outputs": [],
   "source": [
    "# First Droping the column that not usefull.\n",
    "train_df.drop(['Id','idhogar','rez_esc'], axis=1, inplace=True)"
   ]
  },
  {
   "cell_type": "code",
   "execution_count": 36,
   "id": "e86e90ac",
   "metadata": {},
   "outputs": [],
   "source": [
    "# Acc to data dictionary (tipovivi1, =1 own and fully paid house)            "
   ]
  },
  {
   "cell_type": "code",
   "execution_count": 37,
   "id": "6e42592b",
   "metadata": {},
   "outputs": [
    {
     "data": {
      "text/plain": [
       "1    5911\n",
       "0    3646\n",
       "Name: tipovivi1, dtype: int64"
      ]
     },
     "execution_count": 37,
     "metadata": {},
     "output_type": "execute_result"
    }
   ],
   "source": [
    "train_df['tipovivi1'].value_counts()"
   ]
  },
  {
   "cell_type": "code",
   "execution_count": 38,
   "id": "bd4ecac9",
   "metadata": {},
   "outputs": [],
   "source": [
    "# Acc to data dictionary (v18q, owns a tablet)"
   ]
  },
  {
   "cell_type": "code",
   "execution_count": 39,
   "id": "e06062ec",
   "metadata": {},
   "outputs": [
    {
     "data": {
      "text/plain": [
       "0    7342\n",
       "1    2215\n",
       "Name: v18q, dtype: int64"
      ]
     },
     "execution_count": 39,
     "metadata": {},
     "output_type": "execute_result"
    }
   ],
   "source": [
    "train_df['v18q'].value_counts()"
   ]
  },
  {
   "cell_type": "markdown",
   "id": "84aa08d9",
   "metadata": {},
   "source": [
    "As in 'tipovivi1' feature 1 mean own house, there is no of 5911 is own house so That's there is no rent. So In feature 'v2a1' which show rent amount, so there all Nan value will be replace by 0.\n",
    "\n",
    "As in 'v18q' feature 0 mean do not have own tablet, there is no of 7342 do not have own tablet. So In feature 'v18q1' which show no od tablet, so there all Nan means they has no tablets so that will be replace by 0."
   ]
  },
  {
   "cell_type": "code",
   "execution_count": 40,
   "id": "5535364c",
   "metadata": {},
   "outputs": [],
   "source": [
    "train_df['v2a1'].fillna(value=0, inplace=True)\n",
    "train_df['v18q1'].fillna(value=0, inplace=True)"
   ]
  },
  {
   "cell_type": "code",
   "execution_count": 41,
   "id": "df543f56",
   "metadata": {},
   "outputs": [],
   "source": [
    "train_df['meaneduc'].fillna(np.mean(train_df['meaneduc']),inplace=True)\n",
    "train_df['SQBmeaned'].fillna(np.mean(train_df['SQBmeaned']), inplace=True)"
   ]
  },
  {
   "cell_type": "code",
   "execution_count": 42,
   "id": "ac239734",
   "metadata": {},
   "outputs": [
    {
     "data": {
      "text/plain": [
       "0    140\n",
       "dtype: int64"
      ]
     },
     "execution_count": 42,
     "metadata": {},
     "output_type": "execute_result"
    }
   ],
   "source": [
    "train_df.isnull().sum().value_counts()"
   ]
  },
  {
   "cell_type": "code",
   "execution_count": 43,
   "id": "2a699db5",
   "metadata": {},
   "outputs": [
    {
     "name": "stdout",
     "output_type": "stream",
     "text": [
      "<class 'pandas.core.frame.DataFrame'>\n",
      "RangeIndex: 9557 entries, 0 to 9556\n",
      "Columns: 140 entries, v2a1 to Target\n",
      "dtypes: float64(10), int64(130)\n",
      "memory usage: 10.2 MB\n"
     ]
    }
   ],
   "source": [
    "train_df.info()  # Now There is neither null values nor any object variable."
   ]
  },
  {
   "cell_type": "markdown",
   "id": "67da15da",
   "metadata": {},
   "source": [
    "### 9. Predict the accuracy using random forest classifier."
   ]
  },
  {
   "cell_type": "code",
   "execution_count": 44,
   "id": "5fbc241e",
   "metadata": {},
   "outputs": [],
   "source": [
    "x_train_df = train_df.drop('Target', axis=1)"
   ]
  },
  {
   "cell_type": "code",
   "execution_count": 45,
   "id": "6dac8e04",
   "metadata": {},
   "outputs": [],
   "source": [
    "y_train_df = train_df['Target']"
   ]
  },
  {
   "cell_type": "code",
   "execution_count": 46,
   "id": "09340aa5",
   "metadata": {},
   "outputs": [],
   "source": [
    "# First Split the data set in train test\n",
    "from sklearn.model_selection import train_test_split \n",
    "x_train, x_test, y_train, y_test = train_test_split(x_train_df, y_train_df, test_size=0.25, random_state=1)"
   ]
  },
  {
   "cell_type": "code",
   "execution_count": 47,
   "id": "a2048705",
   "metadata": {},
   "outputs": [],
   "source": [
    "from sklearn.ensemble import RandomForestClassifier\n",
    "rfc = RandomForestClassifier()"
   ]
  },
  {
   "cell_type": "code",
   "execution_count": 48,
   "id": "bce086a8",
   "metadata": {},
   "outputs": [
    {
     "data": {
      "text/plain": [
       "RandomForestClassifier()"
      ]
     },
     "execution_count": 48,
     "metadata": {},
     "output_type": "execute_result"
    }
   ],
   "source": [
    "rfc.fit(x_train, y_train)"
   ]
  },
  {
   "cell_type": "code",
   "execution_count": 50,
   "id": "0baf7cd3",
   "metadata": {},
   "outputs": [],
   "source": [
    "y_pred = rfc.predict(x_test)"
   ]
  },
  {
   "cell_type": "code",
   "execution_count": 51,
   "id": "6e56872f",
   "metadata": {},
   "outputs": [
    {
     "name": "stdout",
     "output_type": "stream",
     "text": [
      "0.9175732217573221\n",
      "[[ 139   11    0   33]\n",
      " [   8  346    6   50]\n",
      " [   1   18  221   64]\n",
      " [   0    4    2 1487]]\n",
      "              precision    recall  f1-score   support\n",
      "\n",
      "           1       0.94      0.76      0.84       183\n",
      "           2       0.91      0.84      0.88       410\n",
      "           3       0.97      0.73      0.83       304\n",
      "           4       0.91      1.00      0.95      1493\n",
      "\n",
      "    accuracy                           0.92      2390\n",
      "   macro avg       0.93      0.83      0.87      2390\n",
      "weighted avg       0.92      0.92      0.91      2390\n",
      "\n"
     ]
    }
   ],
   "source": [
    "# Checking the Accuracy\n",
    "from sklearn.metrics import accuracy_score,confusion_matrix,f1_score,classification_report\n",
    "print(accuracy_score(y_test,y_pred))\n",
    "print(confusion_matrix(y_test,y_pred))\n",
    "print(classification_report(y_test,y_pred))"
   ]
  },
  {
   "cell_type": "markdown",
   "id": "2f10df53",
   "metadata": {},
   "source": [
    "### 10. To Check the accuracy using random forest with cross validation."
   ]
  },
  {
   "cell_type": "code",
   "execution_count": 54,
   "id": "62535801",
   "metadata": {},
   "outputs": [],
   "source": [
    "from sklearn.model_selection import cross_val_score, KFold"
   ]
  },
  {
   "cell_type": "code",
   "execution_count": 55,
   "id": "ce7c3126",
   "metadata": {},
   "outputs": [],
   "source": [
    "seed = np.random.seed(30)"
   ]
  },
  {
   "cell_type": "code",
   "execution_count": 56,
   "id": "4dfbaae3",
   "metadata": {},
   "outputs": [],
   "source": [
    "kfold = KFold(n_splits=4, shuffle=True, random_state=seed)"
   ]
  },
  {
   "cell_type": "code",
   "execution_count": 58,
   "id": "cacea23f",
   "metadata": {},
   "outputs": [
    {
     "name": "stdout",
     "output_type": "stream",
     "text": [
      "[0.91380753 0.90623692 0.91419004 0.91879447]\n"
     ]
    }
   ],
   "source": [
    "print(cross_val_score(rfc, x_train_df, y_train_df, cv=kfold, scoring='accuracy'))"
   ]
  },
  {
   "cell_type": "code",
   "execution_count": 59,
   "id": "0db6d956",
   "metadata": {},
   "outputs": [
    {
     "name": "stdout",
     "output_type": "stream",
     "text": [
      "0.9123145921596719\n"
     ]
    }
   ],
   "source": [
    "print(cross_val_score(rfc, x_train_df, y_train_df, cv=kfold, scoring='accuracy').mean())"
   ]
  },
  {
   "cell_type": "code",
   "execution_count": null,
   "id": "57faff60",
   "metadata": {},
   "outputs": [],
   "source": []
  },
  {
   "cell_type": "markdown",
   "id": "ca780878",
   "metadata": {},
   "source": [
    "Now let's apply cleaning on the test data and do prediction for that."
   ]
  },
  {
   "cell_type": "code",
   "execution_count": 63,
   "id": "5d45a616",
   "metadata": {},
   "outputs": [],
   "source": [
    "# First Droping the column that not usefull.\n",
    "test_df.drop(['Id','idhogar','rez_esc'], axis=1, inplace=True)"
   ]
  },
  {
   "cell_type": "code",
   "execution_count": 64,
   "id": "ad17a357",
   "metadata": {},
   "outputs": [],
   "source": [
    "# Convert the object feature in float.\n",
    "test_df['dependency'] = test_df['dependency'].apply(change)\n",
    "test_df['edjefe'] = test_df['edjefe'].apply(change)\n",
    "test_df['edjefa'] = test_df['edjefa'].apply(change)"
   ]
  },
  {
   "cell_type": "code",
   "execution_count": 65,
   "id": "8bb9c2ea",
   "metadata": {},
   "outputs": [],
   "source": [
    "# Now treating the Nan value in the data set.\n",
    "test_df['v2a1'].fillna(value=0, inplace=True)\n",
    "test_df['v18q1'].fillna(value=0, inplace=True)\n",
    "test_df['meaneduc'].fillna(np.mean(test_df['meaneduc']),inplace=True)\n",
    "test_df['SQBmeaned'].fillna(np.mean(test_df['SQBmeaned']), inplace=True)"
   ]
  },
  {
   "cell_type": "code",
   "execution_count": 66,
   "id": "48ef7ffa",
   "metadata": {},
   "outputs": [
    {
     "name": "stdout",
     "output_type": "stream",
     "text": [
      "<class 'pandas.core.frame.DataFrame'>\n",
      "RangeIndex: 23856 entries, 0 to 23855\n",
      "Columns: 139 entries, v2a1 to agesq\n",
      "dtypes: float64(10), int64(129)\n",
      "memory usage: 25.3 MB\n"
     ]
    }
   ],
   "source": [
    "test_df.info()"
   ]
  },
  {
   "cell_type": "code",
   "execution_count": 67,
   "id": "c7a61f1f",
   "metadata": {},
   "outputs": [],
   "source": [
    "test_pred = rfc.predict(test_df)"
   ]
  },
  {
   "cell_type": "code",
   "execution_count": 68,
   "id": "58416603",
   "metadata": {},
   "outputs": [
    {
     "data": {
      "text/plain": [
       "array([4, 4, 4, ..., 4, 4, 4], dtype=int64)"
      ]
     },
     "execution_count": 68,
     "metadata": {},
     "output_type": "execute_result"
    }
   ],
   "source": [
    "test_pred"
   ]
  },
  {
   "cell_type": "code",
   "execution_count": null,
   "id": "a66959e5",
   "metadata": {},
   "outputs": [],
   "source": []
  },
  {
   "cell_type": "code",
   "execution_count": null,
   "id": "66228b2a",
   "metadata": {},
   "outputs": [],
   "source": []
  }
 ],
 "metadata": {
  "kernelspec": {
   "display_name": "Python 3 (ipykernel)",
   "language": "python",
   "name": "python3"
  },
  "language_info": {
   "codemirror_mode": {
    "name": "ipython",
    "version": 3
   },
   "file_extension": ".py",
   "mimetype": "text/x-python",
   "name": "python",
   "nbconvert_exporter": "python",
   "pygments_lexer": "ipython3",
   "version": "3.9.12"
  }
 },
 "nbformat": 4,
 "nbformat_minor": 5
}
